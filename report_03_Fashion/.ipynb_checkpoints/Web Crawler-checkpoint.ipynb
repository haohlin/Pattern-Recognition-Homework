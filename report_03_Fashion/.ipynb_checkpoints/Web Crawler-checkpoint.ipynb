{
 "cells": [
  {
   "cell_type": "code",
   "execution_count": 46,
   "metadata": {},
   "outputs": [],
   "source": [
    "from bs4 import BeautifulSoup\n",
    "import requests\n",
    "from selenium import webdriver\n",
    "import urllib\n",
    "from PIL import Image"
   ]
  },
  {
   "cell_type": "code",
   "execution_count": 38,
   "metadata": {},
   "outputs": [],
   "source": [
    "browser = webdriver.Chrome()"
   ]
  },
  {
   "cell_type": "code",
   "execution_count": 39,
   "metadata": {},
   "outputs": [],
   "source": [
    "path = 'https://list.tmall.com/search_product.htm?q=T%E6%81%A4&closedKey=inseason'\n",
    "browser.get(path)"
   ]
  },
  {
   "cell_type": "code",
   "execution_count": 45,
   "metadata": {
    "scrolled": false
   },
   "outputs": [
    {
     "name": "stderr",
     "output_type": "stream",
     "text": [
      "F:\\Anaconda\\lib\\site-packages\\bs4\\__init__.py:181: UserWarning: No parser was explicitly specified, so I'm using the best available HTML parser for this system (\"lxml\"). This usually isn't a problem, but if you run this code on another system, or in a different virtual environment, it may use a different parser and behave differently.\n",
      "\n",
      "The code that caused this warning is on line 193 of the file F:\\Anaconda\\lib\\runpy.py. To get rid of this warning, change code that looks like this:\n",
      "\n",
      " BeautifulSoup(YOUR_MARKUP})\n",
      "\n",
      "to this:\n",
      "\n",
      " BeautifulSoup(YOUR_MARKUP, \"lxml\")\n",
      "\n",
      "  markup_type=markup_type))\n"
     ]
    },
    {
     "name": "stdout",
     "output_type": "stream",
     "text": [
      "1 1-10\n",
      "2 2-10\n",
      "3 3-10\n",
      "4 4-10\n",
      "5 5-10\n",
      "6 6-10\n",
      "7 7-10\n",
      "8 8-10\n",
      "9 9-10\n",
      "10 10-10\n",
      "11 11-10\n",
      "12 12-10\n",
      "13 13-10\n",
      "14 14-10\n",
      "15 15-10\n",
      "16 16-10\n",
      "17 17-10\n",
      "18 18-10\n",
      "19 19-10\n",
      "20 20-10\n",
      "21 21-10\n",
      "22 22-10\n",
      "23 23-10\n",
      "24 24-10\n",
      "25 25-10\n",
      "26 26-10\n",
      "27 27-10\n",
      "28 28-10\n",
      "29 29-10\n",
      "30 30-10\n",
      "31 31-10\n",
      "32 32-10\n",
      "33 33-10\n",
      "34 34-10\n",
      "35 35-10\n",
      "36 36-10\n",
      "37 37-10\n",
      "38 38-10\n",
      "39 39-10\n",
      "40 40-10\n",
      "41 41-10\n",
      "42 42-10\n",
      "43 43-10\n",
      "44 44-10\n",
      "45 45-10\n",
      "46 46-10\n",
      "47 47-10\n",
      "48 48-10\n",
      "49 49-10\n",
      "50 50-10\n",
      "51 51-10\n",
      "52 52-10\n",
      "53 53-10\n",
      "54 54-10\n",
      "55 55-10\n",
      "56 56-10\n",
      "57 57-10\n",
      "58 58-10\n",
      "59 59-10\n",
      "60 60-10\n"
     ]
    }
   ],
   "source": [
    "html = browser.page_source\n",
    "soup = BeautifulSoup(html)\n",
    "i = 0\n",
    "for link in soup.find_all('a',{'class':'productImg'}):\n",
    "    i+=1\n",
    "    print(i, link.get('data-p'))\n",
    "    urllib.request.urlretrieve( 'https:'+link.find_all('img')[0].get('src'), 'T-shirt/'+link.get('data-p') + \".jpg\")"
   ]
  },
  {
   "cell_type": "code",
   "execution_count": 53,
   "metadata": {},
   "outputs": [
    {
     "data": {
      "image/png": "[encoded data removed]",
      "text/plain": [
       "<PIL.Image.Image image mode=L size=28x28 at 0x19DCD883D68>"
      ]
     },
     "execution_count": 53,
     "metadata": {},
     "output_type": "execute_result"
    }
   ],
   "source": [
    "\n",
    "for i in range(60):\n",
    "    img = Image.open('T-shirt/'+ str(i+1) +'-10.jpg').convert('L')\n",
    "    img = img.resize((28, 28))\n",
    "img"
   ]
  },
  {
   "cell_type": "code",
   "execution_count": 62,
   "metadata": {},
   "outputs": [
    {
     "ename": "TypeError",
     "evalue": "'method' object is not iterable",
     "output_type": "error",
     "traceback": [
      "\u001b[1;31m---------------------------------------------------------------------------\u001b[0m",
      "\u001b[1;31mTypeError\u001b[0m                                 Traceback (most recent call last)",
      "\u001b[1;32m<ipython-input-62-38eb0e640106>\u001b[0m in \u001b[0;36m<module>\u001b[1;34m()\u001b[0m\n\u001b[1;32m----> 1\u001b[1;33m \u001b[1;32mfor\u001b[0m \u001b[0mi\u001b[0m \u001b[1;32min\u001b[0m \u001b[0mimg\u001b[0m\u001b[1;33m.\u001b[0m\u001b[0mgetpixel\u001b[0m\u001b[1;33m:\u001b[0m\u001b[1;33m\u001b[0m\u001b[0m\n\u001b[0m\u001b[0;32m      2\u001b[0m     \u001b[0mprint\u001b[0m\u001b[1;33m(\u001b[0m\u001b[0mi\u001b[0m\u001b[1;33m)\u001b[0m\u001b[1;33m\u001b[0m\u001b[0m\n",
      "\u001b[1;31mTypeError\u001b[0m: 'method' object is not iterable"
     ]
    }
   ],
   "source": [
    "for i in img.getpixel:\n",
    "    print(i)"
   ]
  }
 ],
 "metadata": {
  "kernelspec": {
   "display_name": "Python [conda env:Anaconda]",
   "language": "python",
   "name": "conda-env-Anaconda-py"
  },
  "language_info": {
   "codemirror_mode": {
    "name": "ipython",
    "version": 3
   },
   "file_extension": ".py",
   "mimetype": "text/x-python",
   "name": "python",
   "nbconvert_exporter": "python",
   "pygments_lexer": "ipython3",
   "version": "3.6.5"
  }
 },
 "nbformat": 4,
 "nbformat_minor": 2
}
