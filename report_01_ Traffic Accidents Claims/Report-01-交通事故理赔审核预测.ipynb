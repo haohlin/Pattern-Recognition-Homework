{
 "cells": [
  {
   "cell_type": "markdown",
   "metadata": {},
   "source": [
    "#  交通事故理赔审核预测\n",
    "\n",
    "* 林昊晗\n",
    "* 2015300010"
   ]
  },
  {
   "cell_type": "markdown",
   "metadata": {},
   "source": [
    "\n",
    "## 任务简介\n",
    "\n",
    "1. 目的：将交通事故现场数据作为训练集，训练得到理赔预测模型，并根据该模型对测试集进行预测。\n",
    "2. 训练集：csv文件，200000*37， 有200000条样本，每个样本36个特征(36个问题)，每个特征由整数表示（问题的答案）。最后一列为该样本是否获得理赔。\n",
    "3. 测试集：csv文件，80000*36，同上，除了没有标签。\n"
   ]
  },
  {
   "cell_type": "markdown",
   "metadata": {},
   "source": [
    "## 解决途径\n",
    "\n",
    "1. 整体思路：\n",
    "<br>这是一个十分显而易见的二分类问题。与之前做过的作业题略有不同的是，本题的状态变量多达36个，所以第一个思路当然是降维，主流方法有PCA等。但是降维可能会造成特征权重分配不合理或者特征丢失，因此我打算采用神经网络模型进行预测。神经网络的好处是可以进行高维度的输入和输出，并且可以在不同层使用不同的激活函数，从而使模型训练得更好。\n",
    "2. 具体实现：\n",
    "<br>在这里调用Keras库里的model等神经网络函数，可以方便的定义隐藏层数以及各层的参数。"
   ]
  },
  {
   "cell_type": "code",
   "execution_count": 19,
   "metadata": {
    "scrolled": true
   },
   "outputs": [],
   "source": [
    "from keras.models import Model #将各个层组合成全连接神经网络的函数\n",
    "from keras.layers import Input, Dense #构建各层用到的函数\n",
    "from keras.utils import np_utils\n",
    "import matplotlib.pyplot as plt\n",
    "import os\n",
    "import pandas as pd\n",
    "import numpy as np"
   ]
  },
  {
   "cell_type": "code",
   "execution_count": 20,
   "metadata": {},
   "outputs": [],
   "source": [
    "batch_size = 20000 #每次训练用到的数据规模\n",
    "num_epochs = 40 #训练次数\n",
    "hidden_size = 50 #隐藏层节点数\n",
    "\n",
    "num_train = 200000 #训练样本数\n",
    "spe_len = 36 #每个样本参数数量\n",
    "num_classes = 2 #二分类"
   ]
  },
  {
   "cell_type": "code",
   "execution_count": 21,
   "metadata": {},
   "outputs": [],
   "source": [
    "#读取数据集\n",
    "train_data = np.array(pd.read_csv('train.csv'))\n",
    "test_data = np.array(pd.read_csv('test.csv'))\n",
    "X_train = train_data[:,1:-1]\n",
    "X_train = X_train.astype('float32') #源数据是int类型，这里需要转换成float\n",
    "y_train = train_data[:,-1]\n",
    "#由于是二分类问题，输出层有两个节点，所以需要将label处理成两列。\n",
    "Y_train = np_utils.to_categorical(y_train, num_classes)\n",
    "\n",
    "X_test = test_data[:,1:]"
   ]
  },
  {
   "cell_type": "code",
   "execution_count": 22,
   "metadata": {},
   "outputs": [],
   "source": [
    "'''创建输入层，隐藏层1、2，输出层并建立先后顺序关系。\n",
    "两个隐藏层节点数和激活函数相同。\n",
    "注意到两个隐藏层和输出层都有bias，可以使预测模型更精确。\n",
    "输出层激活函数是softmax。'''\n",
    "\n",
    "inp = Input(shape=(spe_len,)) \n",
    "hidden_1 = Dense(hidden_size, activation='relu', use_bias = True)(inp) \n",
    "hidden_2 = Dense(hidden_size, activation='relu', use_bias = True)(hidden_1)\n",
    "out = Dense(num_classes, activation='softmax', use_bias = True)(hidden_2)"
   ]
  },
  {
   "cell_type": "code",
   "execution_count": 23,
   "metadata": {},
   "outputs": [
    {
     "name": "stdout",
     "output_type": "stream",
     "text": [
      "Train on 180000 samples, validate on 20000 samples\n",
      "Epoch 1/40\n",
      "180000/180000 [==============================] - 1s 4us/step - loss: 0.5162 - acc: 0.8413 - val_loss: 0.4656 - val_acc: 0.8449\n",
      "Epoch 2/40\n",
      "180000/180000 [==============================] - 0s 2us/step - loss: 0.4489 - acc: 0.8429 - val_loss: 0.4249 - val_acc: 0.8419\n",
      "Epoch 3/40\n",
      "180000/180000 [==============================] - 0s 2us/step - loss: 0.4174 - acc: 0.8462 - val_loss: 0.3971 - val_acc: 0.8594\n",
      "Epoch 4/40\n",
      "180000/180000 [==============================] - 0s 2us/step - loss: 0.3903 - acc: 0.8582 - val_loss: 0.3718 - val_acc: 0.8593\n",
      "Epoch 5/40\n",
      "180000/180000 [==============================] - 0s 2us/step - loss: 0.3664 - acc: 0.8569 - val_loss: 0.3487 - val_acc: 0.8592\n",
      "Epoch 6/40\n",
      "180000/180000 [==============================] - 0s 2us/step - loss: 0.3456 - acc: 0.8564 - val_loss: 0.3302 - val_acc: 0.8580\n",
      "Epoch 7/40\n",
      "180000/180000 [==============================] - 0s 2us/step - loss: 0.3267 - acc: 0.8567 - val_loss: 0.3115 - val_acc: 0.8629\n",
      "Epoch 8/40\n",
      "180000/180000 [==============================] - 0s 2us/step - loss: 0.3080 - acc: 0.8619 - val_loss: 0.2938 - val_acc: 0.8676\n",
      "Epoch 9/40\n",
      "180000/180000 [==============================] - 0s 2us/step - loss: 0.2897 - acc: 0.8709 - val_loss: 0.2783 - val_acc: 0.8773\n",
      "Epoch 10/40\n",
      "180000/180000 [==============================] - 0s 2us/step - loss: 0.2749 - acc: 0.8813 - val_loss: 0.2667 - val_acc: 0.8902\n",
      "Epoch 11/40\n",
      "180000/180000 [==============================] - 0s 2us/step - loss: 0.2632 - acc: 0.8906 - val_loss: 0.2553 - val_acc: 0.8951\n",
      "Epoch 12/40\n",
      "180000/180000 [==============================] - 0s 2us/step - loss: 0.2536 - acc: 0.8960 - val_loss: 0.2479 - val_acc: 0.8989\n",
      "Epoch 13/40\n",
      "180000/180000 [==============================] - 0s 2us/step - loss: 0.2466 - acc: 0.8993 - val_loss: 0.2422 - val_acc: 0.9005\n",
      "Epoch 14/40\n",
      "180000/180000 [==============================] - 0s 2us/step - loss: 0.2412 - acc: 0.9005 - val_loss: 0.2379 - val_acc: 0.9021\n",
      "Epoch 15/40\n",
      "180000/180000 [==============================] - 0s 2us/step - loss: 0.2368 - acc: 0.9021 - val_loss: 0.2336 - val_acc: 0.9031\n",
      "Epoch 16/40\n",
      "180000/180000 [==============================] - 0s 2us/step - loss: 0.2329 - acc: 0.9030 - val_loss: 0.2300 - val_acc: 0.9049\n",
      "Epoch 17/40\n",
      "180000/180000 [==============================] - 0s 2us/step - loss: 0.2297 - acc: 0.9041 - val_loss: 0.2272 - val_acc: 0.9056\n",
      "Epoch 18/40\n",
      "180000/180000 [==============================] - 0s 2us/step - loss: 0.2268 - acc: 0.9048 - val_loss: 0.2241 - val_acc: 0.9076\n",
      "Epoch 19/40\n",
      "180000/180000 [==============================] - 0s 2us/step - loss: 0.2240 - acc: 0.9057 - val_loss: 0.2216 - val_acc: 0.9079\n",
      "Epoch 20/40\n",
      "180000/180000 [==============================] - 0s 2us/step - loss: 0.2216 - acc: 0.9062 - val_loss: 0.2195 - val_acc: 0.9092\n",
      "Epoch 21/40\n",
      "180000/180000 [==============================] - 0s 2us/step - loss: 0.2194 - acc: 0.9079 - val_loss: 0.2175 - val_acc: 0.9118\n",
      "Epoch 22/40\n",
      "180000/180000 [==============================] - 0s 2us/step - loss: 0.2174 - acc: 0.9088 - val_loss: 0.2155 - val_acc: 0.9101\n",
      "Epoch 23/40\n",
      "180000/180000 [==============================] - 0s 2us/step - loss: 0.2155 - acc: 0.9100 - val_loss: 0.2142 - val_acc: 0.9127\n",
      "Epoch 24/40\n",
      "180000/180000 [==============================] - 0s 2us/step - loss: 0.2137 - acc: 0.9109 - val_loss: 0.2122 - val_acc: 0.9128\n",
      "Epoch 25/40\n",
      "180000/180000 [==============================] - 0s 2us/step - loss: 0.2121 - acc: 0.9121 - val_loss: 0.2108 - val_acc: 0.9142\n",
      "Epoch 26/40\n",
      "180000/180000 [==============================] - 0s 3us/step - loss: 0.2106 - acc: 0.9127 - val_loss: 0.2098 - val_acc: 0.9147\n",
      "Epoch 27/40\n",
      "180000/180000 [==============================] - 0s 2us/step - loss: 0.2093 - acc: 0.9134 - val_loss: 0.2084 - val_acc: 0.9148\n",
      "Epoch 28/40\n",
      "180000/180000 [==============================] - 0s 2us/step - loss: 0.2080 - acc: 0.9137 - val_loss: 0.2076 - val_acc: 0.9143\n",
      "Epoch 29/40\n",
      "180000/180000 [==============================] - 0s 2us/step - loss: 0.2066 - acc: 0.9138 - val_loss: 0.2061 - val_acc: 0.9150\n",
      "Epoch 30/40\n",
      "180000/180000 [==============================] - 0s 2us/step - loss: 0.2052 - acc: 0.9141 - val_loss: 0.2047 - val_acc: 0.9154\n",
      "Epoch 31/40\n",
      "180000/180000 [==============================] - 0s 2us/step - loss: 0.2041 - acc: 0.9140 - val_loss: 0.2035 - val_acc: 0.9155\n",
      "Epoch 32/40\n",
      "180000/180000 [==============================] - 0s 2us/step - loss: 0.2030 - acc: 0.9143 - val_loss: 0.2026 - val_acc: 0.9156\n",
      "Epoch 33/40\n",
      "180000/180000 [==============================] - 0s 2us/step - loss: 0.2019 - acc: 0.9142 - val_loss: 0.2013 - val_acc: 0.9156\n",
      "Epoch 34/40\n",
      "180000/180000 [==============================] - 0s 2us/step - loss: 0.2010 - acc: 0.9146 - val_loss: 0.2002 - val_acc: 0.9158\n",
      "Epoch 35/40\n",
      "180000/180000 [==============================] - 0s 2us/step - loss: 0.2000 - acc: 0.9147 - val_loss: 0.1996 - val_acc: 0.9156\n",
      "Epoch 36/40\n",
      "180000/180000 [==============================] - 0s 2us/step - loss: 0.1991 - acc: 0.9150 - val_loss: 0.1990 - val_acc: 0.9169\n",
      "Epoch 37/40\n",
      "180000/180000 [==============================] - 0s 2us/step - loss: 0.1982 - acc: 0.9154 - val_loss: 0.1978 - val_acc: 0.9160\n",
      "Epoch 38/40\n",
      "180000/180000 [==============================] - 0s 2us/step - loss: 0.1972 - acc: 0.9157 - val_loss: 0.1978 - val_acc: 0.9169\n",
      "Epoch 39/40\n",
      "180000/180000 [==============================] - 0s 2us/step - loss: 0.1966 - acc: 0.9158 - val_loss: 0.1965 - val_acc: 0.9172\n",
      "Epoch 40/40\n",
      "180000/180000 [==============================] - 0s 2us/step - loss: 0.1958 - acc: 0.9164 - val_loss: 0.1959 - val_acc: 0.9179\n"
     ]
    }
   ],
   "source": [
    "#用Model函数将上述各层连接到一起\n",
    "model = Model(inputs=inp, outputs=out)\n",
    "\n",
    "'''定义好模型之后需要通过编译来对学习过程进行配置，\n",
    "我们可以为模型的编译指定各类参数包括：优化器optimizer，损失函数loss，评估指标metrics'''\n",
    "model.compile(loss='categorical_crossentropy', optimizer='adam', metrics=['accuracy'])\n",
    "\n",
    "'''采用反向传播算法训练神经网络。训练完成后，history 会保存模型训练后的相关描述'''\n",
    "history = model.fit(X_train, Y_train, batch_size=batch_size, epochs=num_epochs, verbose=1, validation_split=0.1)"
   ]
  },
  {
   "cell_type": "code",
   "execution_count": 32,
   "metadata": {},
   "outputs": [
    {
     "data": {
      "image/png": "[encoded data removed]",
      "text/plain": [
       "<Figure size 432x288 with 1 Axes>"
      ]
     },
     "metadata": {},
     "output_type": "display_data"
    },
    {
     "data": {
      "image/png": "[encoded data removed]",
      "text/plain": [
       "<Figure size 432x288 with 1 Axes>"
      ]
     },
     "metadata": {},
     "output_type": "display_data"
    }
   ],
   "source": [
    "# 绘制训练和测试精度曲线\n",
    "plt.plot(history.history['acc'])\n",
    "plt.plot(history.history['val_acc'])\n",
    "plt.title('Model accuracy')\n",
    "plt.ylabel('Accuracy')\n",
    "plt.xlabel('Epoch')\n",
    "plt.legend(['Train', 'Test'], loc='upper left')\n",
    "plt.show()\n",
    "\n",
    "# 绘制训练和测试损失函数曲线\n",
    "plt.plot(history.history['loss'])\n",
    "plt.plot(history.history['val_loss'])\n",
    "plt.title('Model loss')\n",
    "plt.ylabel('Loss')\n",
    "plt.xlabel('Epoch')\n",
    "plt.legend(['Train', 'Test'], loc='upper left')\n",
    "plt.show()"
   ]
  },
  {
   "cell_type": "code",
   "execution_count": 30,
   "metadata": {},
   "outputs": [
    {
     "name": "stdout",
     "output_type": "stream",
     "text": [
      "[0.9998288  0.9948002  0.88191897 ... 0.14280811 0.9995479  0.30411425]\n"
     ]
    }
   ],
   "source": [
    "#对测试集进行预测\n",
    "test_predict = model.predict_on_batch(X_test)\n",
    "test_predict = test_predict[:,0]\n",
    "print(test_predict) \n"
   ]
  },
  {
   "cell_type": "code",
   "execution_count": 34,
   "metadata": {},
   "outputs": [],
   "source": [
    "#将预测输出到submit_data.csv中\n",
    "submitData = pd.read_csv(\"submit_data.csv\")\n",
    "submitData['Evaluation'] = test_predict\n",
    "submitData.to_csv(\"submit_data.csv\", index=False)"
   ]
  },
  {
   "cell_type": "markdown",
   "metadata": {},
   "source": [
    "## 遇到的问题和从中学到的知识\n",
    "\n",
    "1. 隐藏层数，隐藏层节点数，每次训练用到的样本数量和训练的次数均会影响到训练效果。<br>1). 若隐层节点数太少，模型可能根本不能训练或模型性能很差；若隐层节点数太多，虽然可使模型的误差减小，但一方面使网络训练时间延长，另一方面，训练容易陷入局部极小点而得不到最优点，也是训练时出现“过拟合”的内在原因。训练步长的选择也是类似原理，采用合适的变步长方法可以改善效果。<br>2). batch size越大，训练的越快，精度往往也越好。\n",
    "2. 最好对输入数据进行归一化，以免引起数据错误。"
   ]
  },
  {
   "cell_type": "markdown",
   "metadata": {},
   "source": [
    "## 总结\n",
    "学习任何一门知识最快最有效的办法，就是将其用来解决实际问题。本次报告我采用直接调用Keras库的方法，虽然看起来很省事，但是在选择合适的参数训练的过程中我学到了以前无暇顾及的知识。因为不用关心神经网络的内部算法有没有错误，我可以着眼于输入数据和网络结构对训练效果的影响，这使我对神经网络的原理和特性有了很好地了解。总而言之，感谢老师提供的机会，让我们将课堂上学习的知识真正用到了实处。"
   ]
  }
 ],
 "metadata": {
  "kernelspec": {
   "display_name": "Python [conda env:ame]",
   "language": "python",
   "name": "conda-env-ame-py"
  },
  "language_info": {
   "codemirror_mode": {
    "name": "ipython",
    "version": 3
   },
   "file_extension": ".py",
   "mimetype": "text/x-python",
   "name": "python",
   "nbconvert_exporter": "python",
   "pygments_lexer": "ipython3",
   "version": "3.6.6"
  }
 },
 "nbformat": 4,
 "nbformat_minor": 2
}
