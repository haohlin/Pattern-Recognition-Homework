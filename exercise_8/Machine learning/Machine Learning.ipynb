{
 "cells": [
  {
   "cell_type": "code",
   "execution_count": 7,
   "metadata": {},
   "outputs": [],
   "source": [
    "from keras.datasets import mnist\n",
    "from keras.models import Model\n",
    "from keras.layers import Input, Dense\n",
    "from keras.utils import np_utils"
   ]
  },
  {
   "cell_type": "code",
   "execution_count": 8,
   "metadata": {},
   "outputs": [],
   "source": [
    "batch_size = 128\n",
    "num_epochs = 20\n",
    "hidden_size = 1000\n",
    "\n",
    "num_train = 60000\n",
    "num_test = 10000\n",
    "\n",
    "height, width, depth = 28, 28, 1\n",
    "num_classes = 10"
   ]
  },
  {
   "cell_type": "code",
   "execution_count": 9,
   "metadata": {},
   "outputs": [],
   "source": [
    "(X_train, y_train), (X_test, y_test) = mnist.load_data()\n",
    "\n",
    "X_train = X_train.reshape(num_train, height * width)\n",
    "X_test = X_test.reshape(num_test, height * width)\n",
    "X_train = X_train.astype('float32') \n",
    "X_test = X_test.astype('float32')\n",
    "X_train /= 255\n",
    "X_test /= 255\n",
    "\n",
    "Y_train = np_utils.to_categorical(y_train, num_classes)\n",
    "Y_test = np_utils.to_categorical(y_test, num_classes)"
   ]
  },
  {
   "cell_type": "code",
   "execution_count": 10,
   "metadata": {},
   "outputs": [],
   "source": [
    "inp = Input(shape=(height * width,))\n",
    "hidden_1 = Dense(hidden_size, activation='relu')(inp)\n",
    "hidden_2 = Dense(hidden_size, activation='relu')(hidden_1)\n",
    "out = Dense(num_classes, activation='softmax')(hidden_2)"
   ]
  },
  {
   "cell_type": "code",
   "execution_count": 11,
   "metadata": {},
   "outputs": [
    {
     "name": "stdout",
     "output_type": "stream",
     "text": [
      "Train on 54000 samples, validate on 6000 samples\n",
      "Epoch 1/20\n",
      "54000/54000 [==============================] - 18s 342us/step - loss: 0.2017 - acc: 0.9389 - val_loss: 0.0908 - val_acc: 0.9722\n",
      "Epoch 2/20\n",
      "54000/54000 [==============================] - 17s 316us/step - loss: 0.0774 - acc: 0.9758 - val_loss: 0.0766 - val_acc: 0.9770\n",
      "Epoch 3/20\n",
      "54000/54000 [==============================] - 17s 322us/step - loss: 0.0483 - acc: 0.9847 - val_loss: 0.0734 - val_acc: 0.9790\n",
      "Epoch 4/20\n",
      "54000/54000 [==============================] - 17s 317us/step - loss: 0.0346 - acc: 0.9888 - val_loss: 0.0696 - val_acc: 0.9820\n",
      "Epoch 5/20\n",
      "54000/54000 [==============================] - 17s 317us/step - loss: 0.0257 - acc: 0.9915 - val_loss: 0.0683 - val_acc: 0.9830\n",
      "Epoch 6/20\n",
      "54000/54000 [==============================] - 17s 314us/step - loss: 0.0226 - acc: 0.9927 - val_loss: 0.0935 - val_acc: 0.9760\n",
      "Epoch 7/20\n",
      "54000/54000 [==============================] - 17s 315us/step - loss: 0.0220 - acc: 0.9925 - val_loss: 0.0676 - val_acc: 0.9840\n",
      "Epoch 8/20\n",
      "54000/54000 [==============================] - 17s 315us/step - loss: 0.0168 - acc: 0.9949 - val_loss: 0.0797 - val_acc: 0.9812\n",
      "Epoch 9/20\n",
      "54000/54000 [==============================] - 18s 324us/step - loss: 0.0166 - acc: 0.9946 - val_loss: 0.0751 - val_acc: 0.9845\n",
      "Epoch 10/20\n",
      "54000/54000 [==============================] - 17s 315us/step - loss: 0.0158 - acc: 0.9947 - val_loss: 0.0863 - val_acc: 0.9818\n",
      "Epoch 11/20\n",
      "54000/54000 [==============================] - 17s 316us/step - loss: 0.0151 - acc: 0.9949 - val_loss: 0.0922 - val_acc: 0.9813\n",
      "Epoch 12/20\n",
      "54000/54000 [==============================] - 17s 318us/step - loss: 0.0103 - acc: 0.9968 - val_loss: 0.0827 - val_acc: 0.9832\n",
      "Epoch 13/20\n",
      "54000/54000 [==============================] - 18s 325us/step - loss: 0.0102 - acc: 0.9969 - val_loss: 0.1159 - val_acc: 0.9765\n",
      "Epoch 14/20\n",
      "54000/54000 [==============================] - 17s 315us/step - loss: 0.0119 - acc: 0.9957 - val_loss: 0.0932 - val_acc: 0.9820\n",
      "Epoch 15/20\n",
      "54000/54000 [==============================] - 17s 316us/step - loss: 0.0111 - acc: 0.9964 - val_loss: 0.1002 - val_acc: 0.9812\n",
      "Epoch 16/20\n",
      "54000/54000 [==============================] - 17s 318us/step - loss: 0.0080 - acc: 0.9975 - val_loss: 0.0885 - val_acc: 0.9852\n",
      "Epoch 17/20\n",
      "54000/54000 [==============================] - 17s 322us/step - loss: 0.0094 - acc: 0.9969 - val_loss: 0.1075 - val_acc: 0.9810\n",
      "Epoch 18/20\n",
      "54000/54000 [==============================] - 17s 315us/step - loss: 0.0139 - acc: 0.9959 - val_loss: 0.0965 - val_acc: 0.9795\n",
      "Epoch 19/20\n",
      "54000/54000 [==============================] - 18s 328us/step - loss: 0.0111 - acc: 0.9967 - val_loss: 0.0949 - val_acc: 0.9828\n",
      "Epoch 20/20\n",
      "54000/54000 [==============================] - 17s 318us/step - loss: 0.0044 - acc: 0.9987 - val_loss: 0.0826 - val_acc: 0.9862\n",
      "10000/10000 [==============================] - 1s 140us/step\n"
     ]
    },
    {
     "data": {
      "text/plain": [
       "[0.09307110270829412, 0.9833]"
      ]
     },
     "execution_count": 11,
     "metadata": {},
     "output_type": "execute_result"
    }
   ],
   "source": [
    "model = Model(inputs=inp, outputs=out)\n",
    "\n",
    "model.compile(loss='categorical_crossentropy',\n",
    "              optimizer='adam',\n",
    "              metrics=['accuracy'])\n",
    "\n",
    "model.fit(X_train, Y_train, \n",
    "          batch_size=batch_size, epochs=num_epochs,\n",
    "          verbose=1, validation_split=0.1)\n",
    "model.evaluate(X_test, Y_test, verbose=1)"
   ]
  }
 ],
 "metadata": {
  "kernelspec": {
   "display_name": "Python [conda env:ame]",
   "language": "python",
   "name": "conda-env-ame-py"
  },
  "language_info": {
   "codemirror_mode": {
    "name": "ipython",
    "version": 3
   },
   "file_extension": ".py",
   "mimetype": "text/x-python",
   "name": "python",
   "nbconvert_exporter": "python",
   "pygments_lexer": "ipython3",
   "version": "3.6.6"
  }
 },
 "nbformat": 4,
 "nbformat_minor": 2
}
