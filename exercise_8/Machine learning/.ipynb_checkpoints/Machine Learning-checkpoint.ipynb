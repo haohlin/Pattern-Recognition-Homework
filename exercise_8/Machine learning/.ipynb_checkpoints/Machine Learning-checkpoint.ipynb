{
 "cells": [
  {
   "cell_type": "code",
   "execution_count": 1,
   "metadata": {},
   "outputs": [
    {
     "name": "stderr",
     "output_type": "stream",
     "text": [
      "Using TensorFlow backend.\n"
     ]
    }
   ],
   "source": [
    "from keras.datasets import mnist # subroutines for fetching the MNIST dataset\n",
    "from keras.models import Model # basic class for specifying and training a neural network\n",
    "from keras.layers import Input, Dense # the two types of neural network layer we will be using\n",
    "from keras.utils import np_utils # utilities for one-hot encoding of ground truth values"
   ]
  },
  {
   "cell_type": "code",
   "execution_count": 2,
   "metadata": {},
   "outputs": [],
   "source": [
    "batch_size = 128 # in each iteration, we consider 128 training examples at once\n",
    "num_epochs = 20 # we iterate twenty times over the entire training set\n",
    "hidden_size = 1000 # there will be 512 neurons in both hidden layers\n",
    "\n",
    "num_train = 60000 # there are 60000 training examples in MNIST\n",
    "num_test = 10000 # there are 10000 test examples in MNIST\n",
    "\n",
    "height, width, depth = 28, 28, 1 # MNIST images are 28x28 and greyscale\n",
    "num_classes = 10 # there are 10 classes (1 per digit)"
   ]
  },
  {
   "cell_type": "code",
   "execution_count": 3,
   "metadata": {},
   "outputs": [],
   "source": [
    "(X_train, y_train), (X_test, y_test) = mnist.load_data() # fetch MNIST data\n",
    "\n",
    "X_train = X_train.reshape(num_train, height * width) # Flatten data to 1D\n",
    "X_test = X_test.reshape(num_test, height * width) # Flatten data to 1D\n",
    "X_train = X_train.astype('float32') \n",
    "X_test = X_test.astype('float32')\n",
    "X_train /= 255 # Normalise data to [0, 1] range\n",
    "X_test /= 255 # Normalise data to [0, 1] range\n",
    "\n",
    "Y_train = np_utils.to_categorical(y_train, num_classes) # One-hot encode the labels\n",
    "Y_test = np_utils.to_categorical(y_test, num_classes) # One-hot encode the labels"
   ]
  },
  {
   "cell_type": "code",
   "execution_count": 4,
   "metadata": {},
   "outputs": [],
   "source": [
    "inp = Input(shape=(height * width,)) # Our input is a 1D vector of size 784\n",
    "hidden_1 = Dense(hidden_size, activation='relu')(inp) # First hidden ReLU layer\n",
    "hidden_2 = Dense(hidden_size, activation='relu')(hidden_1) # Second hidden ReLU layer\n",
    "out = Dense(num_classes, activation='softmax')(hidden_2) # Output softmax layer"
   ]
  },
  {
   "cell_type": "code",
   "execution_count": 5,
   "metadata": {},
   "outputs": [
    {
     "name": "stdout",
     "output_type": "stream",
     "text": [
      "Train on 54000 samples, validate on 6000 samples\n",
      "Epoch 1/20\n",
      "54000/54000 [==============================] - 15s 280us/step - loss: 0.2088 - acc: 0.9372 - val_loss: 0.1077 - val_acc: 0.9647\n",
      "Epoch 2/20\n",
      "54000/54000 [==============================] - 15s 272us/step - loss: 0.0782 - acc: 0.9758 - val_loss: 0.0825 - val_acc: 0.9745\n",
      "Epoch 3/20\n",
      "54000/54000 [==============================] - 15s 271us/step - loss: 0.0514 - acc: 0.9833 - val_loss: 0.0712 - val_acc: 0.9790\n",
      "Epoch 4/20\n",
      "54000/54000 [==============================] - 15s 273us/step - loss: 0.0342 - acc: 0.9885 - val_loss: 0.0798 - val_acc: 0.9780\n",
      "Epoch 5/20\n",
      "54000/54000 [==============================] - 15s 273us/step - loss: 0.0283 - acc: 0.9910 - val_loss: 0.0922 - val_acc: 0.9755\n",
      "Epoch 6/20\n",
      "54000/54000 [==============================] - 15s 276us/step - loss: 0.0252 - acc: 0.9915 - val_loss: 0.0724 - val_acc: 0.9810\n",
      "Epoch 7/20\n",
      "54000/54000 [==============================] - 15s 278us/step - loss: 0.0186 - acc: 0.9939 - val_loss: 0.0818 - val_acc: 0.9807\n",
      "Epoch 8/20\n",
      "54000/54000 [==============================] - 15s 274us/step - loss: 0.0182 - acc: 0.9934 - val_loss: 0.0864 - val_acc: 0.9800\n",
      "Epoch 9/20\n",
      "54000/54000 [==============================] - 15s 275us/step - loss: 0.0141 - acc: 0.9955 - val_loss: 0.0931 - val_acc: 0.9783\n",
      "Epoch 10/20\n",
      "54000/54000 [==============================] - 15s 276us/step - loss: 0.0126 - acc: 0.9960 - val_loss: 0.0802 - val_acc: 0.9840\n",
      "Epoch 11/20\n",
      "54000/54000 [==============================] - 15s 285us/step - loss: 0.0166 - acc: 0.9947 - val_loss: 0.0782 - val_acc: 0.9830\n",
      "Epoch 12/20\n",
      "54000/54000 [==============================] - 15s 283us/step - loss: 0.0118 - acc: 0.9961 - val_loss: 0.0851 - val_acc: 0.9833\n",
      "Epoch 13/20\n",
      "54000/54000 [==============================] - 15s 277us/step - loss: 0.0102 - acc: 0.9969 - val_loss: 0.0969 - val_acc: 0.9803\n",
      "Epoch 14/20\n",
      "54000/54000 [==============================] - 15s 274us/step - loss: 0.0090 - acc: 0.9971 - val_loss: 0.1078 - val_acc: 0.9785\n",
      "Epoch 15/20\n",
      "54000/54000 [==============================] - 15s 274us/step - loss: 0.0111 - acc: 0.9965 - val_loss: 0.1071 - val_acc: 0.9807\n",
      "Epoch 16/20\n",
      "54000/54000 [==============================] - 15s 275us/step - loss: 0.0135 - acc: 0.9957 - val_loss: 0.1074 - val_acc: 0.9798\n",
      "Epoch 17/20\n",
      "54000/54000 [==============================] - 15s 280us/step - loss: 0.0124 - acc: 0.9963 - val_loss: 0.0943 - val_acc: 0.9808\n",
      "Epoch 18/20\n",
      "54000/54000 [==============================] - 15s 274us/step - loss: 0.0057 - acc: 0.9982 - val_loss: 0.0955 - val_acc: 0.9815\n",
      "Epoch 19/20\n",
      "54000/54000 [==============================] - 15s 273us/step - loss: 0.0045 - acc: 0.9986 - val_loss: 0.0814 - val_acc: 0.9842\n",
      "Epoch 20/20\n",
      "54000/54000 [==============================] - 15s 282us/step - loss: 0.0045 - acc: 0.9988 - val_loss: 0.1106 - val_acc: 0.9830\n",
      "10000/10000 [==============================] - 1s 119us/step\n"
     ]
    },
    {
     "data": {
      "text/plain": [
       "[0.11091141477292887, 0.9787]"
      ]
     },
     "execution_count": 5,
     "metadata": {},
     "output_type": "execute_result"
    }
   ],
   "source": [
    "model = Model(inputs=inp, outputs=out) # To define a model, just specify its input and output layers\n",
    "\n",
    "model.compile(loss='categorical_crossentropy', # using the cross-entropy loss function\n",
    "              optimizer='adam', # using the Adam optimiser\n",
    "              metrics=['accuracy']) # reporting the accuracy\n",
    "\n",
    "model.fit(X_train, Y_train, # Train the model using the training set...\n",
    "          batch_size=batch_size, epochs=num_epochs,\n",
    "          verbose=1, validation_split=0.1) # ...holding out 10% of the data for validation\n",
    "model.evaluate(X_test, Y_test, verbose=1) # Evaluate the trained model on the test set!"
   ]
  },
  {
   "cell_type": "code",
   "execution_count": null,
   "metadata": {},
   "outputs": [],
   "source": []
  }
 ],
 "metadata": {
  "kernelspec": {
   "display_name": "Python [conda env:ame]",
   "language": "python",
   "name": "conda-env-ame-py"
  },
  "language_info": {
   "codemirror_mode": {
    "name": "ipython",
    "version": 3
   },
   "file_extension": ".py",
   "mimetype": "text/x-python",
   "name": "python",
   "nbconvert_exporter": "python",
   "pygments_lexer": "ipython3",
   "version": "3.6.6"
  }
 },
 "nbformat": 4,
 "nbformat_minor": 2
}
