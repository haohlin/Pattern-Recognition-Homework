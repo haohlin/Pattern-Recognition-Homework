{
 "cells": [
  {
   "cell_type": "markdown",
   "metadata": {},
   "source": [
    "# Pratice Report(9/23/2018)"
   ]
  },
  {
   "cell_type": "markdown",
   "metadata": {},
   "source": [
    "## 林昊晗，2015300010"
   ]
  },
  {
   "cell_type": "markdown",
   "metadata": {},
   "source": [
    "## 1. 数值计算 numpy"
   ]
  },
  {
   "cell_type": "markdown",
   "metadata": {},
   "source": [
    "### EXERCISE 1.1"
   ]
  },
  {
   "cell_type": "markdown",
   "metadata": {},
   "source": [
    "对于一个存在在数组，如何添加一个用0填充的边界?\n"
   ]
  },
  {
   "cell_type": "code",
   "execution_count": 7,
   "metadata": {
    "scrolled": true
   },
   "outputs": [
    {
     "name": "stdout",
     "output_type": "stream",
     "text": [
      "row: 2\n",
      "collum: 3\n",
      "[[0.81703131 0.91656208 0.5760559 ]\n",
      " [0.37342728 0.69168514 0.08302869]] \n",
      "\n",
      "[[0.         0.         0.         0.         0.        ]\n",
      " [0.         0.81703131 0.91656208 0.5760559  0.        ]\n",
      " [0.         0.37342728 0.69168514 0.08302869 0.        ]\n",
      " [0.         0.         0.         0.         0.        ]]\n"
     ]
    }
   ],
   "source": [
    "# -*- coding: utf-8 -*-\n",
    "import numpy as ny\n",
    "m = int (input(\"row: \"))\n",
    "n = int (input(\"collum: \"))\n",
    "\n",
    "a = ny.random.rand(m,n)\n",
    "print(a, '\\n')\n",
    "\n",
    "b = ny.zeros((m,1))\n",
    "\n",
    "b_1 = ny.c_[b,a,b]\n",
    "\n",
    "c = ny.zeros((1,n+2))\n",
    "\n",
    "trans_a = ny.r_[c,b_1,c]\n",
    "\n",
    "print(trans_a)\n"
   ]
  },
  {
   "cell_type": "markdown",
   "metadata": {},
   "source": [
    "思路：<br>利用ny.c_[]和ny.r[]分别实现列和行的插入。矩阵的插入还有许多相关函数，如：<br>ny.insert(a, 0, values=b, axis=0),是将b以行为单位插入到a的第0行前（即作为第0行），如axis = 1则是以列为单位插入。<br>np.row_stack(tuple)，np.column_stack((a,b.T))与最开始的方法也一样，需注意行向量要转置成为列向量才能以列为单位插入。<br><br>函数：<br>int(input()):将输入的string转为int<br>ny.random.rand(m,n)：产生一个m行n列的在[0,1)区间的随机矩阵<br> ny.zeros((m,1))：产生m行1列的全零矩阵，即一列零向量组成的矩阵。注意输入参数是tuple类型。如为list则返回向量。ny.c_[]函数只接受矩阵类型参数。"
   ]
  },
  {
   "cell_type": "markdown",
   "metadata": {},
   "source": [
    "### EXERCISE 1.2"
   ]
  },
  {
   "cell_type": "markdown",
   "metadata": {},
   "source": [
    "创建一个 5x5的矩阵，并设置值1,2,3,4落在其对角线下方位置"
   ]
  },
  {
   "cell_type": "code",
   "execution_count": 40,
   "metadata": {
    "scrolled": true
   },
   "outputs": [
    {
     "name": "stdout",
     "output_type": "stream",
     "text": [
      "[[0.22471426 0.3113509  0.21325489 0.4714159  0.99871859]\n",
      " [0.01225978 0.13453505 0.40100895 0.78429246 0.39771094]\n",
      " [0.96894665 0.02221192 0.8852569  0.42981729 0.00680467]\n",
      " [0.39537083 0.27650989 0.72338254 0.90514993 0.87379516]\n",
      " [0.12199926 0.5947831  0.18908765 0.40976328 0.95274716]] \n",
      "\n",
      "[0.22471426 0.3113509  0.21325489 0.4714159  0.99871859 0.01225978\n",
      " 0.13453505 0.40100895 0.78429246 0.39771094 0.96894665 0.02221192\n",
      " 0.8852569  0.42981729 0.00680467 0.39537083 0.27650989 0.72338254\n",
      " 0.90514993 0.87379516 0.12199926 0.5947831  0.18908765 0.40976328\n",
      " 0.95274716] \n",
      "\n",
      "(25,)\n",
      "[[0.22471426 0.3113509  0.21325489 0.4714159  0.99871859]\n",
      " [1.         0.13453505 0.40100895 0.78429246 0.39771094]\n",
      " [0.96894665 2.         0.8852569  0.42981729 0.00680467]\n",
      " [0.39537083 0.27650989 3.         0.90514993 0.87379516]\n",
      " [0.12199926 0.5947831  0.18908765 4.         0.95274716]]\n"
     ]
    }
   ],
   "source": [
    "import numpy as np\n",
    "a = np.random.rand(5,5)\n",
    "print(a, '\\n')\n",
    "\n",
    "b = a.flatten()\n",
    "print(b, '\\n')\n",
    "\n",
    "for i in range(4):\n",
    "    b[5+6*i] = i + 1\n",
    "\n",
    "b.shape = 5,5\n",
    "print(b)\n",
    "#or:\n",
    "#a.shape = 1,-1\n",
    "#print(a, '\\n')\n",
    "\n",
    "#for i in range(4):\n",
    "#    a[0,5+6*i] = i + 1\n",
    "\n",
    "#a.shape = 5,5\n",
    "#print(a)"
   ]
  },
  {
   "cell_type": "markdown",
   "metadata": {},
   "source": [
    "思路：<br>产生5*5随机矩阵，通过a.reshape/a.shape/a.flatten函数修改矩阵为一行向量组成的矩阵（前两者）或一行向量，然后通过for循环将1,2,3,4赋值给向量下标为5,5+6,5+6*2,5+6*3的元素。本题不能用np.diag(a,-1)赋值的原因是,diag是函数，返回值不能更改。<br><br>函数：<br>a.shape：不需要输入参数，可以通过赋值改变矩阵结构（类似reshape），-1会自动计算替换为矩阵所有元素数。<br>a.flatten()：有输入，省略会启用默认值<br>"
   ]
  },
  {
   "cell_type": "markdown",
   "metadata": {},
   "source": [
    "### EXERCISE 1.3"
   ]
  },
  {
   "cell_type": "markdown",
   "metadata": {},
   "source": [
    "创建一个8x8 的矩阵，并且设置成国际象棋棋盘样式（黑可以用0, 白可以用1）"
   ]
  },
  {
   "cell_type": "code",
   "execution_count": 8,
   "metadata": {
    "scrolled": true
   },
   "outputs": [
    {
     "name": "stdout",
     "output_type": "stream",
     "text": [
      "[[0 1 0 1 0 1 0 1]\n",
      " [1 0 1 0 1 0 1 0]\n",
      " [0 1 0 1 0 1 0 1]\n",
      " [1 0 1 0 1 0 1 0]\n",
      " [0 1 0 1 0 1 0 1]\n",
      " [1 0 1 0 1 0 1 0]\n",
      " [0 1 0 1 0 1 0 1]\n",
      " [1 0 1 0 1 0 1 0]]\n"
     ]
    }
   ],
   "source": [
    "import numpy as ny\n",
    "a = ny.array([[int(bin(n+m)[-1]) for n in range(8)] for m in range(8)])\n",
    "print(a)"
   ]
  },
  {
   "cell_type": "markdown",
   "metadata": {},
   "source": [
    "思路：<br>从0开始按顺序取十进制整数，用bin()转换为二进制，此时为字符串格式。取str[-1位]则正好是0,1,0,1交替的。换行时额外加1即可得到棋盘形式的矩阵。<br><br>函数：<br>bin（int）：输出字符串。"
   ]
  },
  {
   "cell_type": "markdown",
   "metadata": {},
   "source": [
    "### EXERCISE 1.4"
   ]
  },
  {
   "cell_type": "markdown",
   "metadata": {},
   "source": [
    "求解线性方程组\n",
    "给定一个方程组，如何求出其的方程解。有多种方法，分析各种方法的优缺点（最简单的方式是消元法）。\n",
    "<br>例如<br>\n",
    "<br>\n",
    "3x + 4y + 2z = 10<br>\n",
    "5x + 3y + 4z = 14<br>\n",
    "8x + 2y + 7z = 20<br>\n",
    "编程写出求解的程序"
   ]
  },
  {
   "cell_type": "code",
   "execution_count": 9,
   "metadata": {
    "scrolled": true
   },
   "outputs": [
    {
     "name": "stdout",
     "output_type": "stream",
     "text": [
      "方法1：\n",
      " x=  6.0 \n",
      "y=  0.0 \n",
      "z= -4.0 \n",
      "\n",
      "方法2：\n",
      " x=  6.0 \n",
      "y=  -0.0 \n",
      "z= -4.0 \n",
      "\n"
     ]
    }
   ],
   "source": [
    "#自己输入有点麻烦，就先拿例子当输入了\n",
    "#求解:\n",
    "#3x + 4y + 2z = 10\n",
    "#5x + 3y + 4z = 14\n",
    "#8x + 2y + 7z = 20\n",
    "import numpy as ny\n",
    "coe = ny.matrix([[3,4,2], [5,3,4], [8,2,7]])\n",
    "nHomo = ny.matrix([[10,14,20]])\n",
    "#方法1\n",
    "nHomo_T = nHomo.T\n",
    "re1 = coe.I * nHomo_T\n",
    "x = round(re1[0,0])\n",
    "y = round(re1[1,0])\n",
    "z = round(re1[2,0])\n",
    "print ('方法1：\\n','x= ',x,'\\ny= ',y,'\\nz=',z,'\\n')\n",
    "\n",
    "#方法2\n",
    "re2 = nHomo * coe.T.I \n",
    "x = round(re2[0,0])\n",
    "y = round(re2[0,1])\n",
    "z = round(re2[0,2])\n",
    "print ('方法2：\\n','x= ',x,'\\ny= ',y,'\\nz=',z,'\\n')"
   ]
  },
  {
   "cell_type": "markdown",
   "metadata": {},
   "source": [
    "思路：<br>消元法虽然用手算很快，但由于matlab强大的矩阵运算库，我认为最简单的方法其实是利用矩阵运算。设A为系数阵，B为非齐次列向量，X为解矩阵，方程转化为$A*X = B$, 则$X = A^T * B$或者$X = B * A^{T^{-1}}$。有空尝试一下消元法。<br><br>函数：<br>ny.matrix()：ny.arange()等函数产生的其实是多维数组（ndarray），不是matrix，matrix只是array的一个分支；只有matrix才能用于矩阵点乘、求逆等运算，而array只能对单个元素进行运算。<br>round(float)：四舍五入取整。"
   ]
  },
  {
   "cell_type": "markdown",
   "metadata": {},
   "source": [
    "### EXERCISE 1.5"
   ]
  },
  {
   "cell_type": "markdown",
   "metadata": {},
   "source": [
    "翻转一个数组（第一个元素变成最后一个）"
   ]
  },
  {
   "cell_type": "code",
   "execution_count": 10,
   "metadata": {},
   "outputs": [
    {
     "name": "stdout",
     "output_type": "stream",
     "text": [
      "[[ 0  1  2  3]\n",
      " [ 4  5  6  7]\n",
      " [ 8  9 10 11]\n",
      " [12 13 14 15]] \n",
      "\n",
      "[[15 14 13 12]\n",
      " [11 10  9  8]\n",
      " [ 7  6  5  4]\n",
      " [ 3  2  1  0]]\n"
     ]
    }
   ],
   "source": [
    "import numpy as np\n",
    "a = np.arange(16).reshape(4,4)\n",
    "print(a, '\\n')\n",
    "b = a[::-1,::-1]\n",
    "print(b)\n"
   ]
  },
  {
   "cell_type": "markdown",
   "metadata": {},
   "source": [
    "思路：<br>就相当于从后往前排列。<br><br>函数：<br>a[j:i:m,k:l:n]:取下标为j到i-1以m为步长的行与下标为k到l-1以n为步长的列。"
   ]
  },
  {
   "cell_type": "markdown",
   "metadata": {},
   "source": [
    "### EXERCISE 1.6"
   ]
  },
  {
   "cell_type": "markdown",
   "metadata": {},
   "source": [
    "产生一个十乘十随机数组，并且找出最大和最小值"
   ]
  },
  {
   "cell_type": "code",
   "execution_count": 42,
   "metadata": {
    "scrolled": true
   },
   "outputs": [
    {
     "name": "stdout",
     "output_type": "stream",
     "text": [
      "[[81 15 63  8 18 68 75 80 93 86]\n",
      " [62 76 84 84 26 52 30 60 13 60]\n",
      " [20 51 33 16 66 55 38  9 59 89]\n",
      " [29  3 93 94 60 91 20 44 37 76]\n",
      " [98 26 65 38 50 99 51 85 42 95]\n",
      " [32 38 92  7 62 74 19 98 81 58]\n",
      " [57 24 85 65 98 62 55 29 13 33]\n",
      " [94 47 76 40 81 71 70 27 59 26]\n",
      " [83 81  3 43 67 98 20 88 50 36]\n",
      " [78 22  1 13 69 75 23 88 11  9]]\n",
      "max: 99 \n",
      "Location:\n",
      "4 5\n",
      "\n",
      "\n",
      "min: 1 \n",
      "Location:\n",
      "9 2\n"
     ]
    }
   ],
   "source": [
    "import numpy as np\n",
    "a = np.random.randint(0,100,(10,10))\n",
    "print (a)\n",
    "b = np.where( a == a.max())\n",
    "print ('max:',a.max(),'\\nLocation:')\n",
    "for i in range (len(b[0])):\n",
    "    print(b[0][i], b[1][i])\n",
    "    \n",
    "print('\\n')\n",
    "\n",
    "c = np.where( a == a.min())\n",
    "print ('min:',a.min(),'\\nLocation:')\n",
    "for j in range (len(c[0])):\n",
    "    print(c[0][j], c[1][j])"
   ]
  },
  {
   "cell_type": "markdown",
   "metadata": {},
   "source": [
    "思路：<br>只找最大最小值太简单（难道不能用a.max()函数吗？），所以我又加了一个功能：找到所有最大最小值的位置。np.where函数返回一个tuple，第一项是行数组成的list，第二项是列数。遍历即可得位置信息。<br><br>函数：<br>np.random.randint(0,100,(10,10))：在[0,100)范围内随机取值得到10阶方阵。"
   ]
  },
  {
   "cell_type": "markdown",
   "metadata": {},
   "source": [
    "## 2. Matplotlib"
   ]
  },
  {
   "cell_type": "markdown",
   "metadata": {},
   "source": [
    "### EXERCISE 2.1"
   ]
  },
  {
   "attachments": {
    "matplot_ex1.png": {
     "image/png": "[encoded data removed]"
    }
   },
   "cell_type": "markdown",
   "metadata": {},
   "source": [
    "画出一个二次函数，同时画出梯形法求积分时的各个梯形\n",
    "例如：![matplot_ex1.png](attachment:matplot_ex1.png)"
   ]
  },
  {
   "cell_type": "code",
   "execution_count": 2,
   "metadata": {
    "scrolled": true
   },
   "outputs": [
    {
     "data": {
      "image/png": "[encoded data removed]",
      "text/plain": [
       "<Figure size 432x288 with 1 Axes>"
      ]
     },
     "metadata": {},
     "output_type": "display_data"
    }
   ],
   "source": [
    "import matplotlib.pyplot as plt\n",
    "import numpy as np\n",
    "x = np.linspace(-16,16,32)\n",
    "y = x**2\n",
    "fig = plt.figure()\n",
    "axes = fig.add_axes([0,0,1,1])\n",
    "axes.plot(x,y)\n",
    "\n",
    "#plot第一个变量意思是x范围取定在一点，而y的范围在0到y[i]\n",
    "for i in range(32):\n",
    "    axes.plot([x[i],x[i]],[0,y[i]],'r')\n",
    "\n",
    "axes.set_title(r'$y = x^2$')\n",
    "axes.set_xlabel('x')\n",
    "axes.set_ylabel('y')\n",
    "axes.xaxis.set_ticks_position(\"bottom\")\n",
    "axes.spines[\"bottom\"].set_position(('data',0))\n",
    "\n",
    "plt.show()"
   ]
  },
  {
   "cell_type": "markdown",
   "metadata": {},
   "source": [
    "思路：<br>先画出函数曲线，然后循环得到每个点到x-axis的垂直线。<br><br>函数：<br>np.linspace(-16,16,32)：产生[-16,16]间的32个等差数列，返回行向量。<br>plt.figure()：返回一个instance，允许从实例中调用并更改具体图像的参数。<br>axes = fig.add_axes([0,0,1,1])：在figure中加入两个坐标轴，前两项是空间位置，后两项是长度。<br>axes.plot(x,y)：画曲线。<br>axes.set_title(r'$y = x^2$')<br>\n",
    "axes.set_xlabel('x')<br>\n",
    "axes.set_ylabel('y')<br>axes.xaxis.set_ticks_position(\"bottom\")：将底部的线设为x轴。<br>\n",
    "axes.spines[\"bottom\"].set_position(('data',0))：将底部的线移到零点。"
   ]
  },
  {
   "cell_type": "markdown",
   "metadata": {},
   "source": [
    "### EXERCISE 2.2"
   ]
  },
  {
   "cell_type": "markdown",
   "metadata": {},
   "source": [
    "绘制函数 f(x)=sin2(x−2)e−x2\n",
    "需要画出标题，x，y轴。x的取值范围是[0, 2]"
   ]
  },
  {
   "cell_type": "code",
   "execution_count": 3,
   "metadata": {
    "scrolled": false
   },
   "outputs": [
    {
     "data": {
      "image/png": "[encoded data removed]",
      "text/plain": [
       "<Figure size 432x288 with 1 Axes>"
      ]
     },
     "metadata": {},
     "output_type": "display_data"
    }
   ],
   "source": [
    "import numpy as np\n",
    "import matplotlib.pyplot as plt\n",
    "\n",
    "x = np.linspace(0,2,20)\n",
    "y = np.exp(-x**2)*pow(np.sin(x-2),2)\n",
    "\n",
    "fig = plt.figure()\n",
    "ax = fig.add_axes([0,0,1,1])\n",
    "ax.plot(x,y)\n",
    "\n",
    "ax.set_title(r'$y = sin^2(x-2)e^{-x^2}$')\n",
    "ax.set_xlabel('x')\n",
    "ax.set_xlim([0,2])\n",
    "ax.set_ylabel('y')\n",
    "\n",
    "plt.show()"
   ]
  },
  {
   "cell_type": "markdown",
   "metadata": {},
   "source": [
    "思路：<br>就是函数的应用。要牢记。<br><br>函数：<br>np.exp(x)：numpy库中的指数函数，能输入矩阵。<br>'￥y = sin^2(x-2)e^{-x^2}￥'：latex语言文本处理。"
   ]
  },
  {
   "cell_type": "markdown",
   "metadata": {},
   "source": [
    "### EXERCISE 2.3"
   ]
  },
  {
   "attachments": {
    "random_walk.png": {
     "image/png": "[encoded data removed]"
    }
   },
   "cell_type": "markdown",
   "metadata": {},
   "source": [
    " 模拟一个醉汉在二维空间上的随机漫步。\n",
    "例如1维的情况是：![random_walk.png](attachment:random_walk.png)x轴表示步子，y轴表示游走的位置\n",
    "\n",
    "如果对于二维，则x，y分别是游走的位置。当然也可以画成三维，其中z比表示步子。"
   ]
  },
  {
   "cell_type": "code",
   "execution_count": 52,
   "metadata": {},
   "outputs": [
    {
     "data": {
      "image/png": "[encoded data removed]",
      "text/plain": [
       "<Figure size 432x288 with 2 Axes>"
      ]
     },
     "metadata": {},
     "output_type": "display_data"
    }
   ],
   "source": [
    "import numpy as np\n",
    "import matplotlib.pyplot as plt\n",
    "import math\n",
    "\n",
    "#在[0,2pi]取100个随机方向\n",
    "dirc = np.random.random(100)*2*np.pi\n",
    "\n",
    "#竖向排列两个图，第一个为极坐标，第二个为直角坐标\n",
    "fig, ax = plt.subplots(2,1)\n",
    "\n",
    "#极坐标下展现了每步的方向和大小（定为单位步长），用每个点与原点连线组成的向量表示\n",
    "ax[0] = plt.subplot(211, projection='polar')\n",
    "for i in range(100):\n",
    "    ax[0].plot([dirc[i],dirc[i]],[0,1],'r')\n",
    "\n",
    "#初始化x\n",
    "x = np.random.rand(100)\n",
    "x[0] = 0\n",
    "a = 0\n",
    "#初始化y\n",
    "y = np.random.rand(100)\n",
    "y[0] = 0\n",
    "b = 0\n",
    "#每一步在x的投影为cos(dirx[i]), 在y的投影为sin(dirx[i])，然后将每一步连起来即为走过的路径\n",
    "for i in range(1,100):\n",
    "    a += math.cos(dirc[i-1])\n",
    "    x[i] = a\n",
    "    b += math.sin(dirc[i-1])\n",
    "    y[i] = b\n",
    "    \n",
    "ax[1].plot(x,y,marker='+',markeredgecolor=\"red\")\n",
    "#处理坐标轴，使起点位于原点（坐标轴交点）\n",
    "ax[1].xaxis.set_ticks_position(\"bottom\")\n",
    "ax[1].yaxis.set_ticks_position(\"left\")\n",
    "ax[1].spines[\"bottom\"].set_position(('data',0))\n",
    "ax[1].spines[\"left\"].set_position(('data',0))\n",
    "ax[1].spines[\"right\"].set_color(\"none\")\n",
    "ax[1].spines[\"top\"].set_color(\"none\")\n",
    "\n",
    "fig.savefig('exercise_2-3.pdf')\n",
    "\n",
    "plt.show()"
   ]
  },
  {
   "cell_type": "markdown",
   "metadata": {},
   "source": [
    "原理：<br>见注释。<br><br>函数：<br>plt.subplots(2,1)：返回tuple，只需用到第二项，即坐标轴对象组成的list。用下标即可读取。<br>fig.savefig('exercise_2-3.pdf')：自动储存图表为pdf。但坐标轴和标题经常会消失，查不到什么原因导致的。"
   ]
  }
 ],
 "metadata": {
  "kernelspec": {
   "display_name": "Python [conda env:Anaconda]",
   "language": "python",
   "name": "conda-env-Anaconda-py"
  },
  "language_info": {
   "codemirror_mode": {
    "name": "ipython",
    "version": 3
   },
   "file_extension": ".py",
   "mimetype": "text/x-python",
   "name": "python",
   "nbconvert_exporter": "python",
   "pygments_lexer": "ipython3",
   "version": "3.6.5"
  }
 },
 "nbformat": 4,
 "nbformat_minor": 2
}
