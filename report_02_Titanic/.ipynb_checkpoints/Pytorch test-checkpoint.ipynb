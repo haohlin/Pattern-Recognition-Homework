{
 "cells": [
  {
   "cell_type": "code",
   "execution_count": null,
   "metadata": {},
   "outputs": [],
   "source": [
    "train = torch.Tensor(trainData.values[:,:7])\n",
    "label = torch.Tensor(trainData.values[:,7])\n",
    "gpu_train = train.cuda(0)\n",
    "gpu_label = label.cuda(0)\n",
    "train = Variable(gpu_train, requires_grad = True)\n",
    "label = Variable(gpu_label).long()\n",
    "\n",
    "\n",
    "class NN(nn.Module):\n",
    "    def __init__(self, in_features, hidden_features, out_features):\n",
    "        nn.Module.__init__(self)\n",
    "        self.layer1 = nn.Linear(in_features, hidden_features)\n",
    "        self.layer2 = nn.Linear(hidden_features, out_features)\n",
    "    def forward(self, x):\n",
    "        x = self.layer1(x)\n",
    "        x = torch.relu(x)\n",
    "        return self.layer2(x)\n",
    "        \n",
    "e = 200\n",
    "\n",
    "nural_net = NN(7,  10, 1)\n",
    "nural_net = nural_net.cuda()\n",
    "print(nural_net)\n",
    "\n",
    "optimizer = optim.SGD(params=nural_net.parameters(), lr=0.01)\n",
    "loss_function = nn.CrossEntropyLoss()\n",
    "\n",
    "for i in range(e):\n",
    "    #for param in nural_net.named_parameters():\n",
    "        #print(param,'\\n')\n",
    "    output = nural_net.forward(train)\n",
    "    print(output)\n",
    "    loss = loss_function(output, label)\n",
    "    print(loss)\n",
    "    optimizer.zero_grad()\n",
    "\n",
    "    loss.backward()\n",
    "\n",
    "    optimizer.step()"
   ]
  }
 ],
 "metadata": {
  "kernelspec": {
   "display_name": "Python [conda env:Anaconda]",
   "language": "python",
   "name": "conda-env-Anaconda-py"
  },
  "language_info": {
   "codemirror_mode": {
    "name": "ipython",
    "version": 3
   },
   "file_extension": ".py",
   "mimetype": "text/x-python",
   "name": "python",
   "nbconvert_exporter": "python",
   "pygments_lexer": "ipython3",
   "version": "3.6.5"
  }
 },
 "nbformat": 4,
 "nbformat_minor": 2
}
