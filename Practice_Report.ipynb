{
 "cells": [
  {
   "cell_type": "markdown",
   "metadata": {},
   "source": [
    "# Pratice Report(9/19/2018)"
   ]
  },
  {
   "cell_type": "markdown",
   "metadata": {},
   "source": [
    "## 林昊晗，2015300010"
   ]
  },
  {
   "cell_type": "markdown",
   "metadata": {},
   "source": [
    "## EXERCISE 1"
   ]
  },
  {
   "cell_type": "markdown",
   "metadata": {},
   "source": [
    "给定一个文章，找出每个单词的出现次数\n",
    "\n",
    "One is always on a strange road, watching strange scenery and listening to strange music. Then one day, you will find that the things you try hard to forget are already gone."
   ]
  },
  {
   "cell_type": "code",
   "execution_count": null,
   "metadata": {},
   "outputs": [],
   "source": [
    "text = open(\"text.txt\",\"r+\") #打开文件（读写）\n",
    "cont = text.readline() \n",
    "s1 = cont.replace(\".\",\"\")    #去掉.\n",
    "s2 = s1.replace(\",\",\"\")      #去掉,\n",
    "list1 = s2.split(\" \")        #string分成list\n",
    "for i in range(len(list1)):\n",
    "    a = 0\n",
    "    for j in range(i-1):\n",
    "        if list1[i] == list1[j] : \n",
    "            a = 1\n",
    "            break                 \n",
    "    if a :\n",
    "        continue             #除去重复计数项\n",
    "    print (list1[i], list1.count(list1[i])) #循环输出每个词及每个词出现的次数\n",
    "text.close()"
   ]
  },
  {
   "cell_type": "markdown",
   "metadata": {},
   "source": [
    "思路：打开文件-读取一行字-将逗号句号用空字符代替-split处理过的字符串，使之成为以单词为元素的list-利用嵌套循环，判断输出的单词是否在之前出现过。如果是，则去掉。 <br> 涉及到的函数：<br>open（'file_name', 'open_as'）<br>f.readline():  读取一行数据为字符串，包括换行符<br>str.replace('a','b'):  将字符串中的a换成b<br>str.split('a'):  以a为划分标准，将字符串分割成列表<br>len():  字符串、列表、元组等中元素的个数，但不包含空字符null<br>list.count('a'):  列表中a元素出现的次数"
   ]
  },
  {
   "cell_type": "markdown",
   "metadata": {},
   "source": [
    "## EXERCISE 2"
   ]
  },
  {
   "cell_type": "markdown",
   "metadata": {},
   "source": [
    "有 1、2、3、4 个数字，能组成多少个互不相同且无重复数字的三位数？都是多少？"
   ]
  },
  {
   "cell_type": "code",
   "execution_count": 2,
   "metadata": {},
   "outputs": [
    {
     "name": "stdout",
     "output_type": "stream",
     "text": [
      "123\n",
      "124\n",
      "132\n",
      "134\n",
      "142\n",
      "143\n",
      "213\n",
      "214\n",
      "231\n",
      "234\n",
      "241\n",
      "243\n",
      "312\n",
      "314\n",
      "321\n",
      "324\n",
      "341\n",
      "342\n",
      "412\n",
      "413\n",
      "421\n",
      "423\n",
      "431\n",
      "432\n"
     ]
    }
   ],
   "source": [
    "a = 1\n",
    "b = 2\n",
    "c = 3\n",
    "d = 4\n",
    "li = [a,b,c,d]\n",
    "for i in range(4):\n",
    "    hun = li[i] * 100\n",
    "    for j in range(4):\n",
    "        ten = li[j] * 10\n",
    "        for w in range(4):\n",
    "            one = li[w]\n",
    "            if (li[i] == li[j]) or (li[w] == li[j]) or (li[w] == li[i]):\n",
    "                continue\n",
    "            sum = hun + ten + one\n",
    "            print (sum)"
   ]
  },
  {
   "cell_type": "markdown",
   "metadata": {},
   "source": [
    "将1,2,3,4放到list中，通过三个for嵌套循环对四个数字实现排列组合。每次循环得到一个三位数，判断各位数字不相等后输出此数字。"
   ]
  },
  {
   "cell_type": "markdown",
   "metadata": {},
   "source": [
    "## EXERCISE 3"
   ]
  },
  {
   "cell_type": "markdown",
   "metadata": {},
   "source": [
    "企业发放的奖金根据利润提成。利润(I)：\n",
    "\n",
    "低于或等于 10 万元时，奖金可提 10%；\n",
    "<br>高于 10 万元，低于 20 万元时，低于 10 万元的部分按 10%提成，高于 10 万元的部分，可提成 7.5%；\n",
    "<br>20 万到 40 万之间时，高于 20 万元的部分，可提成 5%；\n",
    "<br>40 万到 60 万之间时，高于 40 万元的部分，可提成 3%；\n",
    "<br>60 万到 100 万之间时，高于 60 万元的部分，可提成 1.5%，\n",
    "<br>高于 100 万元时， 超过 100 万元的部分按 1%提成， 从键盘输入当月利润 I，求应发放奖金总数？"
   ]
  },
  {
   "cell_type": "code",
   "execution_count": 3,
   "metadata": {},
   "outputs": [
    {
     "name": "stdout",
     "output_type": "stream",
     "text": [
      "salary= 345243\n",
      "24762.15\n"
     ]
    }
   ],
   "source": [
    "a = int(input('salary= '))\n",
    "w = 100000\n",
    "if a <= w:\n",
    "    bonus = 0.1*a\n",
    "elif a < 2*w:\n",
    "    bonus = 0.1*w + (a-w)*0.075\n",
    "elif a < 4*w:\n",
    "    bonus = 0.1*w + 0.075*w + (a - 2*w)*0.05\n",
    "elif a < 6*w:\n",
    "    bonus = 0.1*w + 0.075*w + 2*w*0.05 + (a - 4*w)*0.03\n",
    "elif a < 10*w:\n",
    "    bonus = 0.1*w + 0.075*w + 2*w*0.05 + 2*w*0.03 + (a - 6*w)*0.015\n",
    "else : bonus = 0.1*w + 0.075*w + 2*w*0.05 + 2*w*0.03 + 4*w*0.015 + (a - 10*w)*0.01\n",
    "print(bonus)"
   ]
  },
  {
   "cell_type": "markdown",
   "metadata": {},
   "source": [
    "输入利润后判断奖金。难度不大。"
   ]
  },
  {
   "cell_type": "markdown",
   "metadata": {},
   "source": [
    "## EXERCISE 4"
   ]
  },
  {
   "cell_type": "markdown",
   "metadata": {},
   "source": [
    "输出9x9的乘法口诀表"
   ]
  },
  {
   "cell_type": "code",
   "execution_count": 4,
   "metadata": {},
   "outputs": [
    {
     "name": "stdout",
     "output_type": "stream",
     "text": [
      "    1    2    3    4    5    6    7    8    9    \n",
      "\n",
      "1   1    2    3    4    5    6    7    8    9    \n",
      "\n",
      "2   2    4    6    8    10   12   14   16   18   \n",
      "\n",
      "3   3    6    9    12   15   18   21   24   27   \n",
      "\n",
      "4   4    8    12   16   20   24   28   32   36   \n",
      "\n",
      "5   5    10   15   20   25   30   35   40   45   \n",
      "\n",
      "6   6    12   18   24   30   36   42   48   54   \n",
      "\n",
      "7   7    14   21   28   35   42   49   56   63   \n",
      "\n",
      "8   8    16   24   32   40   48   56   64   72   \n",
      "\n",
      "9   9    18   27   36   45   54   63   72   81   \n",
      "\n"
     ]
    }
   ],
   "source": [
    "a = 1\n",
    "b = 2\n",
    "c = 3\n",
    "d = 4\n",
    "e = 5\n",
    "f = 6\n",
    "g = 7\n",
    "h = 8\n",
    "i = 9\n",
    "list_1 = [a,b,c,d,e,f,g,h,i]\n",
    "print ('    ', end='')\n",
    "for j in range(len(list_1)):\n",
    "    print (list_1[j], '   ', end='')\n",
    "print('\\n')\n",
    "for j in range(len(list_1)):\n",
    "    print (j + 1, '  ', end='')\n",
    "    for k in range(len(list_1)):\n",
    "        print (list_1[j]*list_1[k], '  ', end='')\n",
    "        if len(str(list_1[j]*list_1[k])) == 1:\n",
    "            print (' ', end='')            \n",
    "            #排列整齐口诀表，如果得数位数等于一，则加一位空格\n",
    "        if k==8 :\n",
    "            print('\\n')"
   ]
  },
  {
   "cell_type": "markdown",
   "metadata": {},
   "source": [
    "其他好说，重点在于输出漂亮的乘法表的格式，因为二位数会打乱行列一一对应关系。做以判断如果得数是一位数，自动补一个空格。<br>用到的函数：<br>str():    将数或列表变成字符串，列表会包含方括号和标点。<br>print(something, end = ''):     意为输出后不自动换行"
   ]
  },
  {
   "cell_type": "markdown",
   "metadata": {},
   "source": [
    "## EXERCISE 5"
   ]
  },
  {
   "cell_type": "markdown",
   "metadata": {},
   "source": [
    "使用while循环实现输出2-3+4-5+6.....+100的和"
   ]
  },
  {
   "cell_type": "code",
   "execution_count": 6,
   "metadata": {},
   "outputs": [
    {
     "name": "stdout",
     "output_type": "stream",
     "text": [
      "51\n"
     ]
    }
   ],
   "source": [
    "import math\n",
    "sum_1 = 0\n",
    "for i in range(2,101):\n",
    "    s = i*math.pow(-1, i)\n",
    "    sum_1 = int(s) + sum_1\n",
    "print(sum_1)"
   ]
  },
  {
   "cell_type": "markdown",
   "metadata": {},
   "source": [
    "难度不大。<br>函数：<br>pow(x,y):x的y次方"
   ]
  },
  {
   "cell_type": "markdown",
   "metadata": {},
   "source": [
    "## EXERCISE 6"
   ]
  },
  {
   "cell_type": "markdown",
   "metadata": {},
   "source": [
    "给一个数字列表，将其按照由大到小的顺序排列\n",
    "\n",
    "例如\n",
    "\n",
    "1, 10, 4, 2, 9, 2, 34, 5, 9, 8, 5, 0"
   ]
  },
  {
   "cell_type": "code",
   "execution_count": 7,
   "metadata": {},
   "outputs": [
    {
     "name": "stdout",
     "output_type": "stream",
     "text": [
      "[1, 10, 4, 2, 9, 2, 34, 5, 9, 8, 5, 0]\n",
      "[34, 10, 9, 9, 8, 5, 5, 4, 2, 2, 1, 0]\n"
     ]
    }
   ],
   "source": [
    "list_1 = [1, 10, 4, 2, 9, 2, 34, 5, 9, 8, 5, 0]\n",
    "print(list_1)\n",
    "for i in range(len(list_1)-1):\n",
    "    for j in range(len(list_1)-(i+1)):\n",
    "        if list_1[j] < list_1[-(i+1)]:\n",
    "            a = list_1[-(i+1)]\n",
    "            list_1[-(i+1)] = list_1[j]\n",
    "            list_1[j] = a\n",
    "print(list_1)"
   ]
  },
  {
   "cell_type": "markdown",
   "metadata": {},
   "source": [
    "基本的冒泡排序，从大到小排列。外循环是倒着选一个数，内循环是从头选数与外循环选得数对比，如果后面的数大则二者调换，反之不变。这样得到的最后一位一定是最小的。接下来换倒数第二个数与之前的每一个比较，循环往复直到第一位与第二位比较完毕。"
   ]
  },
  {
   "cell_type": "markdown",
   "metadata": {},
   "source": [
    "## EXERCISE 7"
   ]
  },
  {
   "cell_type": "markdown",
   "metadata": {},
   "source": [
    "做为 Apple Store App 独立开发者，你要搞限时促销，为你的应用生成激活码（或者优惠券），使用 Python 如何生成 200 个激活码（或者优惠券）？\n",
    "\n",
    "需要考虑什么是激活码？有什么特性？例如KR603guyVvR是一个激活码"
   ]
  },
  {
   "cell_type": "code",
   "execution_count": 9,
   "metadata": {},
   "outputs": [
    {
     "name": "stdout",
     "output_type": "stream",
     "text": [
      "KA38Owk21rZ0cXKoca6l\n"
     ]
    }
   ],
   "source": [
    "import random\n",
    "str_1=[None] * 20\n",
    "for i in range(20):\n",
    "    a = random.randint(1, 3)\n",
    "    if a==1:\n",
    "        str_1[i] = chr(random.randint(48, 57))\n",
    "        continue\n",
    "    if a==2: \n",
    "        str_1[i] = chr(random.randint(65, 90))\n",
    "        continue\n",
    "    if a==3: \n",
    "        str_1[i] = chr(random.randint(97, 122))\n",
    "        continue\n",
    "print(\"\".join(str_1)) "
   ]
  },
  {
   "cell_type": "markdown",
   "metadata": {},
   "source": [
    "这个题挺有意思。产生一个包含大小写字母和数字的20位序列号。使用random.randint(a,b)能产生[a,b]区间的一个随机整数，但要在大写、小写和数字的ASCII码区间中随机产生一个数无法实现，因为这三者的ASCII码不是连续的。因此只能先随机选大小写数字其中之一，然后再在相应ASCII区间中随机生成int。Python好像没有switch case语句，只能用if代替了。<br>函数：<br>chr()：将十进制或十六进制转换成ACSII字符。<br>str1.join(list1)：将list1中的各个元素用str1链接为一个字符串。"
   ]
  },
  {
   "cell_type": "markdown",
   "metadata": {},
   "source": [
    "## EXERCISE 8"
   ]
  },
  {
   "cell_type": "markdown",
   "metadata": {},
   "source": [
    "需要把某个目录下面所有的某种类型的文件找到。 例如把c:下面所有的.dll文件找到"
   ]
  },
  {
   "cell_type": "code",
   "execution_count": null,
   "metadata": {},
   "outputs": [],
   "source": [
    "import os\n",
    "\n",
    "for root, dire, file in os.walk(\"F:\\OneDrive\\文档\\jupyter notebook\\exercise_8\"):  \n",
    "                                   #exercise_8所在路径\n",
    "    for i in range(len(file)):\n",
    "        if file[i].split('.')[-1] == 'py':\n",
    "            print(file[i])\n"
   ]
  },
  {
   "cell_type": "markdown",
   "metadata": {},
   "source": [
    "实现起来比较简单，因为os.walk()函数太方便了，直接得到文件夹中所有文件或文件夹的路径、文件夹及文件。通过遍历即可得到所有文件名。老师说的递归用的是os.listdir()函数。有空试试。得到的file是每一级目录中文件名组成的列表，用for循环将列表中每个名字用'.'分开，得到的list的倒数第一个元素就是后缀。判断如果后缀是py则输出文件名。"
   ]
  },
  {
   "cell_type": "markdown",
   "metadata": {},
   "source": [
    "## EXERCISE 9"
   ]
  },
  {
   "cell_type": "markdown",
   "metadata": {},
   "source": [
    "你有个目录，里面是程序（假如是C或者是Python），统计一下你写过多少行代码。包括空行和注释，但是要分别列出来。"
   ]
  },
  {
   "cell_type": "code",
   "execution_count": null,
   "metadata": {},
   "outputs": [],
   "source": [
    "import os\n",
    "\n",
    "for root, dire, file in os.walk(\"F:\\OneDrive\\文档\\jupyter notebook\"):\n",
    "    for i in range(len(file)):\n",
    "        if file[i].split('.')[-1] == 'py':\n",
    "            note = 0\n",
    "            empty = 0\n",
    "            f = open(root+'/'+file[i], 'r', encoding='UTF-8')\n",
    "            rec = open('RECORD.txt', 'a')\n",
    "            l = 0\n",
    "            list_1 = f.readlines()\n",
    "            rec.write(file[i] + ':\\n' + 'Total number of lines: '+ str(len(list_1)) + '\\n')\n",
    "            for k in range(len(list_1)):\n",
    "                if  list_1[k] == '\\n':\n",
    "                    empty += 1\n",
    "            rec.write('Number of empty lines: '+ str(empty)+ '\\n')\n",
    "            for j in range(len(list_1)):\n",
    "                if list_1[j] == '\\n':\n",
    "                    list_1[j] ='aaaaa'\n",
    "                if list_1[j].strip()[0] == '#':\n",
    "                    note += 1\n",
    "            rec.write('Number of note lines: '+ str(note)+ '\\n')\n",
    "            f.close()\n",
    "            rec.close()"
   ]
  },
  {
   "cell_type": "markdown",
   "metadata": {},
   "source": [
    "这个题我想多了！！！用了半天来调bug，结果发现根本不是bug。因为文本文档的最后一行不是空字符串，事实上它根本不存在！详情见截图："
   ]
  },
  {
   "cell_type": "markdown",
   "metadata": {},
   "source": [
    "![截图](捕获.PNG)"
   ]
  },
  {
   "cell_type": "markdown",
   "metadata": {},
   "source": [
    "第九题用到了前一题的代码。找到目录里所有的.py文件并打开（打开时加一段encoding='UTF-8'，否则因为有特殊字符会报错）。用f.readlines()得到一个list，其中每个元素是每一行的字符串型式，包含\\n行，不包含最后一行空字符串。len(list)即总行数。然后用for循环判断每一行是不是只有\\n(空行)，然后对每一行进行str.strip()去掉首尾空格后，判断第一个字符是不是'#'来确定注释行。最后以指针在文件末尾、追加模式建立RECORD.txt，记录每个.py文件的总行数、空行数和注释行数。然后如果对'\\n'进行strip操作后取第0位会报错，所以我就把空行随便赋了个值:)<br>函数：<br>os.walk('path')：得到一个包含path、文件夹名和文件名的object，通过遍历可以得到每一个文件的path和名字。<br>f.write('str')：写，但末尾没有\\n"
   ]
  },
  {
   "cell_type": "markdown",
   "metadata": {},
   "source": [
    "## 小结"
   ]
  },
  {
   "cell_type": "markdown",
   "metadata": {},
   "source": [
    "这是我第一次用Python写代码，函数记不住只能来回查，浪费好多时间。以后要多多练习，熟能生巧！而且可能有很多代码可以用更简洁、更快速的方法实现，在这方面我要向老师多多学习。希望老师批评指正。"
   ]
  }
 ],
 "metadata": {
  "kernelspec": {
   "display_name": "Python [conda env:ame]",
   "language": "python",
   "name": "conda-env-ame-py"
  },
  "language_info": {
   "codemirror_mode": {
    "name": "ipython",
    "version": 3
   },
   "file_extension": ".py",
   "mimetype": "text/x-python",
   "name": "python",
   "nbconvert_exporter": "python",
   "pygments_lexer": "ipython3",
   "version": "3.6.6"
  }
 },
 "nbformat": 4,
 "nbformat_minor": 2
}
